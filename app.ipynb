{
 "cells": [
  {
   "cell_type": "code",
   "execution_count": null,
   "id": "eb15757a",
   "metadata": {},
   "outputs": [
    {
     "name": "stdout",
     "output_type": "stream",
     "text": [
      " * Serving Flask app '__main__' (lazy loading)\n",
      " * Environment: production\n",
      "\u001b[31m   WARNING: This is a development server. Do not use it in a production deployment.\u001b[0m\n",
      "\u001b[2m   Use a production WSGI server instead.\u001b[0m\n",
      " * Debug mode: off\n"
     ]
    },
    {
     "name": "stderr",
     "output_type": "stream",
     "text": [
      " * Running on http://127.0.0.1:5000 (Press CTRL+C to quit)\n",
      "127.0.0.1 - - [29/Jun/2023 13:57:55] \"GET / HTTP/1.1\" 200 -\n",
      "127.0.0.1 - - [29/Jun/2023 13:57:56] \"GET /static/style1.css HTTP/1.1\" 200 -\n",
      "127.0.0.1 - - [29/Jun/2023 13:57:56] \"GET /static/v1.mp4 HTTP/1.1\" 206 -\n",
      "127.0.0.1 - - [29/Jun/2023 13:57:56] \"GET /favicon.ico HTTP/1.1\" 404 -\n",
      "127.0.0.1 - - [29/Jun/2023 13:58:12] \"GET /predict HTTP/1.1\" 200 -\n",
      "127.0.0.1 - - [29/Jun/2023 14:02:40] \"GET /static/v1.mp4 HTTP/1.1\" 206 -\n",
      "127.0.0.1 - - [29/Jun/2023 14:02:40] \"GET /static/v1.mp4 HTTP/1.1\" 206 -\n",
      "127.0.0.1 - - [29/Jun/2023 14:02:41] \"GET /static/v1.mp4 HTTP/1.1\" 206 -\n"
     ]
    }
   ],
   "source": [
    "from flask import Flask, request, render_template\n",
    "import tensorflow as tf\n",
    "import numpy as np\n",
    "from PIL import Image\n",
    "\n",
    "app = Flask(__name__)\n",
    "\n",
    "@app.route('/')\n",
    "def home():\n",
    "    return render_template('home.html')\n",
    "\n",
    "@app.route('/predict')\n",
    "def predict():\n",
    "    return render_template('upload.html')\n",
    "\n",
    "# Load the trained models\n",
    "covid_model = tf.keras.models.load_model('cov.h5')\n",
    "pneumonia_model = tf.keras.models.load_model('pneumonia.h5')\n",
    "tb_model = tf.keras.models.load_model('tb.h5')\n",
    "cancer_model = tf.keras.models.load_model('cancer.h5')\n",
    "\n",
    "# Define the labels\n",
    "labels = ['COVID-19', 'Pneumonia', 'TB', 'Cancer']\n",
    "\n",
    "@app.route('/detect', methods=['GET', 'POST'])\n",
    "def detect():\n",
    "    if request.method == 'POST':\n",
    "        # Get the uploaded file from the request\n",
    "        file = request.files['file']\n",
    "        # Load and preprocess the input image\n",
    "        img = Image.open(file).resize((224,224))\n",
    "        img = np.array(img)\n",
    "        if len(img.shape) == 2:\n",
    "            img = np.stack((img,)*3, axis=-1)\n",
    "        elif img.shape[2] == 1:\n",
    "            img = np.repeat(img, 3, axis=2)\n",
    "        img_array = img / 255.0\n",
    "        img_array = np.expand_dims(img_array, axis=0)\n",
    "\n",
    "        # Make predictions using the trained models\n",
    "        covid_prob = covid_model.predict(img_array)[0][0] * 100\n",
    "        pneumonia_prob = pneumonia_model.predict(img_array)[0][0] * 100\n",
    "        tb_prob = tb_model.predict(img_array)[0][0] * 100\n",
    "        cancer_prob = cancer_model.predict(img_array)[0][0] * 100\n",
    "        # Return the predicted probabilities to the HTML page\n",
    "        return render_template('result.html', covid_prob=100-covid_prob, pneumonia_prob=pneumonia_prob, tb_prob=tb_prob, cancer_prob=100-cancer_prob)\n",
    "    \n",
    "    # If the request method is GET, return the HTML page to upload an image\n",
    "    return render_template('home.html')\n",
    "\n",
    "if __name__ == '__main__':\n",
    "    app.run()\n"
   ]
  },
  {
   "cell_type": "code",
   "execution_count": null,
   "id": "b3a614b5",
   "metadata": {},
   "outputs": [],
   "source": []
  }
 ],
 "metadata": {
  "kernelspec": {
   "display_name": "Python 3 (ipykernel)",
   "language": "python",
   "name": "python3"
  },
  "language_info": {
   "codemirror_mode": {
    "name": "ipython",
    "version": 3
   },
   "file_extension": ".py",
   "mimetype": "text/x-python",
   "name": "python",
   "nbconvert_exporter": "python",
   "pygments_lexer": "ipython3",
   "version": "3.10.1"
  }
 },
 "nbformat": 4,
 "nbformat_minor": 5
}
